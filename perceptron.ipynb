{
 "cells": [
  {
   "cell_type": "markdown",
   "metadata": {},
   "source": [
    "# Perceptron\n",
    "\n",
    "Installed libraries: ``numpy``, ``pandas``, ``matplotlib``, and ``watermark``\n",
    "\n",
    "If not you can use conda:\\\n",
    "``!conda install numpy pandas matplotlib --yes``\\\n",
    "``!conda install watermark --yes``"
   ]
  },
  {
   "cell_type": "code",
   "execution_count": 11,
   "metadata": {},
   "outputs": [
    {
     "name": "stdout",
     "output_type": "stream",
     "text": [
      "The watermark extension is already loaded. To reload it, use:\n",
      "  %reload_ext watermark\n",
      "Python implementation: CPython\n",
      "Python version       : 3.9.19\n",
      "IPython version      : 8.15.0\n",
      "\n",
      "numpy     : 1.26.4\n",
      "pandas    : 2.2.1\n",
      "matplotlib: 3.8.4\n",
      "torch     : 2.2.0\n",
      "\n"
     ]
    }
   ],
   "source": [
    "%load_ext watermark\n",
    "%watermark -v -p numpy,pandas,matplotlib,torch "
   ]
  },
  {
   "cell_type": "markdown",
   "metadata": {},
   "source": [
    "# Loading the dataset with pandas"
   ]
  },
  {
   "cell_type": "code",
   "execution_count": 12,
   "metadata": {},
   "outputs": [
    {
     "data": {
      "text/html": [
       "<div>\n",
       "<style scoped>\n",
       "    .dataframe tbody tr th:only-of-type {\n",
       "        vertical-align: middle;\n",
       "    }\n",
       "\n",
       "    .dataframe tbody tr th {\n",
       "        vertical-align: top;\n",
       "    }\n",
       "\n",
       "    .dataframe thead th {\n",
       "        text-align: right;\n",
       "    }\n",
       "</style>\n",
       "<table border=\"1\" class=\"dataframe\">\n",
       "  <thead>\n",
       "    <tr style=\"text-align: right;\">\n",
       "      <th></th>\n",
       "      <th>x1</th>\n",
       "      <th>x2</th>\n",
       "      <th>label</th>\n",
       "    </tr>\n",
       "  </thead>\n",
       "  <tbody>\n",
       "    <tr>\n",
       "      <th>0</th>\n",
       "      <td>0.77</td>\n",
       "      <td>-1.14</td>\n",
       "      <td>0</td>\n",
       "    </tr>\n",
       "    <tr>\n",
       "      <th>1</th>\n",
       "      <td>-0.33</td>\n",
       "      <td>1.44</td>\n",
       "      <td>0</td>\n",
       "    </tr>\n",
       "    <tr>\n",
       "      <th>2</th>\n",
       "      <td>0.91</td>\n",
       "      <td>-3.07</td>\n",
       "      <td>0</td>\n",
       "    </tr>\n",
       "    <tr>\n",
       "      <th>3</th>\n",
       "      <td>-0.37</td>\n",
       "      <td>-1.91</td>\n",
       "      <td>0</td>\n",
       "    </tr>\n",
       "    <tr>\n",
       "      <th>4</th>\n",
       "      <td>-1.84</td>\n",
       "      <td>-1.13</td>\n",
       "      <td>0</td>\n",
       "    </tr>\n",
       "    <tr>\n",
       "      <th>...</th>\n",
       "      <td>...</td>\n",
       "      <td>...</td>\n",
       "      <td>...</td>\n",
       "    </tr>\n",
       "    <tr>\n",
       "      <th>95</th>\n",
       "      <td>0.71</td>\n",
       "      <td>2.27</td>\n",
       "      <td>1</td>\n",
       "    </tr>\n",
       "    <tr>\n",
       "      <th>96</th>\n",
       "      <td>1.96</td>\n",
       "      <td>0.83</td>\n",
       "      <td>1</td>\n",
       "    </tr>\n",
       "    <tr>\n",
       "      <th>97</th>\n",
       "      <td>2.52</td>\n",
       "      <td>1.83</td>\n",
       "      <td>1</td>\n",
       "    </tr>\n",
       "    <tr>\n",
       "      <th>98</th>\n",
       "      <td>2.77</td>\n",
       "      <td>2.82</td>\n",
       "      <td>1</td>\n",
       "    </tr>\n",
       "    <tr>\n",
       "      <th>99</th>\n",
       "      <td>4.16</td>\n",
       "      <td>3.34</td>\n",
       "      <td>1</td>\n",
       "    </tr>\n",
       "  </tbody>\n",
       "</table>\n",
       "<p>100 rows × 3 columns</p>\n",
       "</div>"
      ],
      "text/plain": [
       "      x1    x2  label\n",
       "0   0.77 -1.14      0\n",
       "1  -0.33  1.44      0\n",
       "2   0.91 -3.07      0\n",
       "3  -0.37 -1.91      0\n",
       "4  -1.84 -1.13      0\n",
       "..   ...   ...    ...\n",
       "95  0.71  2.27      1\n",
       "96  1.96  0.83      1\n",
       "97  2.52  1.83      1\n",
       "98  2.77  2.82      1\n",
       "99  4.16  3.34      1\n",
       "\n",
       "[100 rows x 3 columns]"
      ]
     },
     "execution_count": 12,
     "metadata": {},
     "output_type": "execute_result"
    }
   ],
   "source": [
    "import pandas as pd\n",
    "\n",
    "df = pd.read_csv(\"dataset/perceptron_data.txt\", sep=\"\\t\")\n",
    "df"
   ]
  },
  {
   "cell_type": "markdown",
   "metadata": {},
   "source": [
    "Variable x_train stores the feautre columns, variable y_train stores the labels."
   ]
  },
  {
   "cell_type": "code",
   "execution_count": 13,
   "metadata": {},
   "outputs": [],
   "source": [
    "x_train = df[[\"x1\",\"x2\"]].values  # array \n",
    "y_train = df[\"label\"].values      # vector (1 dim. array)\n",
    "#x_train\n",
    "#y_train"
   ]
  },
  {
   "cell_type": "code",
   "execution_count": 14,
   "metadata": {},
   "outputs": [
    {
     "data": {
      "text/plain": [
       "(100, 2)"
      ]
     },
     "execution_count": 14,
     "metadata": {},
     "output_type": "execute_result"
    }
   ],
   "source": [
    "# Check the dimensions\n",
    "x_train.shape"
   ]
  },
  {
   "cell_type": "code",
   "execution_count": 15,
   "metadata": {},
   "outputs": [
    {
     "data": {
      "text/plain": [
       "(100,)"
      ]
     },
     "execution_count": 15,
     "metadata": {},
     "output_type": "execute_result"
    }
   ],
   "source": [
    "# Check the dimensions\n",
    "y_train.shape"
   ]
  },
  {
   "cell_type": "code",
   "execution_count": 16,
   "metadata": {},
   "outputs": [
    {
     "name": "stdout",
     "output_type": "stream",
     "text": [
      "values: [0 1]\n",
      "values: [50 50]\n"
     ]
    }
   ],
   "source": [
    "import numpy as np\n",
    "\n",
    "#np.bincount(y_train)\n",
    "\n",
    "values, counts = np.unique(y_train, return_counts=True)\n",
    "print(\"values:\", values)\n",
    "print(\"values:\", counts)\n",
    "\n",
    "#y_train"
   ]
  },
  {
   "cell_type": "markdown",
   "metadata": {},
   "source": [
    "# Visualization of the data set"
   ]
  },
  {
   "cell_type": "code",
   "execution_count": 17,
   "metadata": {},
   "outputs": [
    {
     "data": {
      "image/png": "[encoded data removed]",
      "text/plain": [
       "<Figure size 640x480 with 1 Axes>"
      ]
     },
     "metadata": {},
     "output_type": "display_data"
    }
   ],
   "source": [
    "%matplotlib inline\n",
    "import matplotlib.pyplot as plt\n",
    "\n",
    "plt.plot(\n",
    "  x_train[y_train == 0, 0],\n",
    "  x_train[y_train == 0, 1],\n",
    "  marker = \"D\",\n",
    "  markersize = 10,\n",
    "  linestyle = \"\",\n",
    "  label = \"Class 0\"\n",
    ")\n",
    "\n",
    "plt.plot(\n",
    "  x_train[y_train == 1, 0],\n",
    "  x_train[y_train == 1, 1],\n",
    "  marker = \"^\",\n",
    "  markersize = 13,\n",
    "  linestyle = \"\",\n",
    "  label = \"Class 1\"\n",
    ")\n",
    "\n",
    "plt.legend(loc=2)\n",
    "\n",
    "plt.xlim([-5,5])\n",
    "plt.ylim([-5,5])\n",
    "\n",
    "plt.xlabel(\"Feature $x_1$\", fontsize=12)\n",
    "plt.ylabel(\"Feature $x_2$\", fontsize=12)\n",
    "\n",
    "plt.grid()\n",
    "plt.show()"
   ]
  },
  {
   "cell_type": "markdown",
   "metadata": {},
   "source": [
    "# Defining the Perceptron model\n",
    "\n",
    "![Perceptrion model](images/perceptron.png)"
   ]
  },
  {
   "cell_type": "code",
   "execution_count": 18,
   "metadata": {},
   "outputs": [],
   "source": [
    "import torch\n",
    "\n",
    "device = torch.device(\"cuda:0\" if torch.cuda.is_available() else \"cpu\")\n",
    "\n",
    "class Perceptron:\n",
    "\n",
    "    # initialize the perceptrion's model\n",
    "    def __init__(self, num_features) :\n",
    "        self.num_features = num_features\n",
    "        self.weights = [0.0 for _ in range(num_features)]\n",
    "        self.bias = 0.0\n",
    "\n",
    "    # compute the weigted sum (computation part)\n",
    "    def forward(self, x) :\n",
    "        weighted_sum_z = self.bias\n",
    "        for i, _ in enumerate(self.weights) :\n",
    "            weighted_sum_z += x[i] * self.weights[i]\n",
    "\n",
    "        if weighted_sum_z > 0.0 :\n",
    "            prediction = 1\n",
    "        else :\n",
    "            prediction = 0\n",
    "\n",
    "        return prediction\n",
    "    \n",
    "    # update method that enables the perceptron to learn\n",
    "    def update(self, x, true_y) :\n",
    "        prediction = self.forward(x)\n",
    "        error = true_y - prediction\n",
    "\n",
    "        self.bias += error\n",
    "        for i, _ in enumerate(self.weights) :\n",
    "            self.weights[i] += error * x[i]\n",
    "        \n",
    "        return error"
   ]
  },
  {
   "cell_type": "code",
   "execution_count": 19,
   "metadata": {},
   "outputs": [
    {
     "name": "stdout",
     "output_type": "stream",
     "text": [
      "Percepton model initial weigths [0.0, 0.0]\n",
      "Percepton model initial bias 0.0\n",
      "Computation with input [1.1, 2.1] results 0\n",
      "Percepton model epoch #1 weigths [1.1, 2.1]\n",
      "Percepton model epoch #1 bias 1.0\n"
     ]
    }
   ],
   "source": [
    "ppn = Perceptron(num_features=2)\n",
    "print(\"Percepton model initial weigths\", ppn.weights)\n",
    "print(\"Percepton model initial bias\", ppn.bias)\n",
    "\n",
    "x = [1.1, 2.1]\n",
    "print(\"Computation with input\", x, \"results\", ppn.forward(x))\n",
    "\n",
    "ppn.update(x, true_y=1)\n",
    "print(\"Percepton model epoch #1 weigths\", ppn.weights)\n",
    "print(\"Percepton model epoch #1 bias\", ppn.bias)"
   ]
  },
  {
   "cell_type": "markdown",
   "metadata": {},
   "source": [
    "## Training the Perceptron"
   ]
  },
  {
   "cell_type": "code",
   "execution_count": 20,
   "metadata": {},
   "outputs": [
    {
     "name": "stdout",
     "output_type": "stream",
     "text": [
      "Epoch #1 errors 1\n",
      "Epoch #2 errors 6\n",
      "Epoch #3 errors 2\n",
      "Epoch #4 errors 2\n",
      "Epoch #5 errors 1\n",
      "Epoch #6 errors 0\n",
      "Epoch #7 errors 0\n",
      "Epoch #8 errors 0\n",
      "Epoch #9 errors 0\n",
      "Epoch #10 errors 0\n",
      "Percepton model final weigths [3.24, 1.7200000000000009]\n",
      "Percepton model final bias -4.0\n"
     ]
    }
   ],
   "source": [
    "def train(model, all_x, all_y, epochs) :\n",
    "    for epoch in range(epochs) :\n",
    "        error_count = 0\n",
    "\n",
    "        for x, y in zip(all_x, all_y) :\n",
    "            error = model.update(x, y)\n",
    "            error_count += abs(error)\n",
    "\n",
    "        print(f\"Epoch #{epoch+1} errors {error_count}\")\n",
    "\n",
    "ppn = Perceptron(num_features=2)\n",
    "train(model=ppn, all_x=x_train, all_y=y_train, epochs=10)\n",
    "\n",
    "print(\"Percepton model final weigths\", ppn.weights)\n",
    "print(\"Percepton model final bias\", ppn.bias)\n"
   ]
  },
  {
   "cell_type": "markdown",
   "metadata": {},
   "source": [
    "# Evaluating the results"
   ]
  },
  {
   "cell_type": "code",
   "execution_count": 21,
   "metadata": {},
   "outputs": [],
   "source": [
    "def compute_accuracy(model, all_x, all_y) :\n",
    "  correct = 0.0\n",
    "\n",
    "  for x,y in zip(all_x, all_y) :\n",
    "    prediction = model.forward(x)\n",
    "    correct += int(prediction == y)\n",
    "\n",
    "  return correct / len(all_y)"
   ]
  },
  {
   "cell_type": "code",
   "execution_count": 23,
   "metadata": {},
   "outputs": [
    {
     "name": "stdout",
     "output_type": "stream",
     "text": [
      "Accuracy: 100.0%\n"
     ]
    }
   ],
   "source": [
    "train_acc = compute_accuracy(ppn, x_train, y_train)\n",
    "print(f\"Accuracy: {train_acc*100}%\")"
   ]
  },
  {
   "cell_type": "code",
   "execution_count": 27,
   "metadata": {},
   "outputs": [
    {
     "data": {
      "image/png": "[encoded data removed]",
      "text/plain": [
       "<Figure size 640x480 with 1 Axes>"
      ]
     },
     "metadata": {},
     "output_type": "display_data"
    }
   ],
   "source": [
    "def plot_boundary(model) :\n",
    "  w1, w2 = model.weights[0], model.weights[1]\n",
    "  b = model.bias\n",
    "\n",
    "  x1_min = -20\n",
    "  x2_min = (-(w1 * x1_min) - b) / w2\n",
    "  x1_max = 20\n",
    "  x2_max = (-(w1 * x1_max) - b) / w2\n",
    "\n",
    "  return x1_min, x1_max, x2_min, x2_max\n",
    "\n",
    "x1_min, x1_max, x2_min, x2_max = plot_boundary(ppn)\n",
    "\n",
    "plt.plot(\n",
    "  x_train[y_train == 0, 0],\n",
    "  x_train[y_train == 0, 1],\n",
    "  marker = \"D\",\n",
    "  markersize = 10,\n",
    "  linestyle = \"\",\n",
    "  label = \"Class 0\"\n",
    ")\n",
    "\n",
    "plt.plot(\n",
    "  x_train[y_train == 1, 0],\n",
    "  x_train[y_train == 1, 1],\n",
    "  marker = \"^\",\n",
    "  markersize = 13,\n",
    "  linestyle = \"\",\n",
    "  label = \"Class 1\"\n",
    ")\n",
    "\n",
    "plt.plot([x1_min, x1_max], [x2_min, x2_max], color=\"k\")\n",
    "\n",
    "plt.legend(loc=2)\n",
    "\n",
    "plt.xlim([-5,5])\n",
    "plt.ylim([-5,5])\n",
    "\n",
    "plt.xlabel(\"Feature $x_1$\", fontsize=12)\n",
    "plt.ylabel(\"Feature $x_2$\", fontsize=12)\n",
    "\n",
    "plt.grid()\n",
    "plt.show()\n"
   ]
  }
 ],
 "metadata": {
  "kernelspec": {
   "display_name": "base",
   "language": "python",
   "name": "python3"
  },
  "language_info": {
   "codemirror_mode": {
    "name": "ipython",
    "version": 3
   },
   "file_extension": ".py",
   "mimetype": "text/x-python",
   "name": "python",
   "nbconvert_exporter": "python",
   "pygments_lexer": "ipython3",
   "version": "3.9.19"
  }
 },
 "nbformat": 4,
 "nbformat_minor": 2
}
